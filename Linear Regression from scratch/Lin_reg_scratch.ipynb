{
 "cells": [
  {
   "cell_type": "code",
   "execution_count": 1,
   "id": "9b27a240-d4ed-4c84-9eda-1c3537e45458",
   "metadata": {},
   "outputs": [],
   "source": [
    "import numpy as np\n",
    "import pandas as pd\n",
    "import matplotlib.pyplot as plt"
   ]
  },
  {
   "cell_type": "code",
   "execution_count": 2,
   "id": "3b1016f9-84a7-40ea-9ff7-0e1af1ace6fa",
   "metadata": {},
   "outputs": [],
   "source": [
    "# object class # self = instance value\n",
    "class Linear_Regression():\n",
    "    \n",
    "    # initiating the hyper parameters\n",
    "    def __init__(self, learning_rate, no_of_iterations):\n",
    "\n",
    "        self.learning_rate = learning_rate\n",
    "        self.no_of_iterations = no_of_iterations\n",
    "\n",
    "    def fit(self, X, Y):\n",
    "\n",
    "        # number of training Examples and number of features\n",
    "        self.m, self.n = X.shape # no of rows and columns\n",
    "\n",
    "        # initiating and the W and b\n",
    "        self.w = np.zeros(self.n)\n",
    "        self.b = 0\n",
    "        self.X = X\n",
    "        self.Y = Y\n",
    "\n",
    "        # implementing Gradient Descent\n",
    "        for i in range(self.no_of_iterations):\n",
    "            self.update_weights()\n",
    "            \n",
    "    def update_weights(self):\n",
    "        Y_prediction = self.predict(self.X)\n",
    "\n",
    "        # calculating the gardients\n",
    "        dw = -(2 * (self.X.T).dot(self.Y - Y_prediction))/self.m\n",
    "        db = -(2 * np.sum(self.Y - Y_prediction))/self.m\n",
    "\n",
    "        # updating\n",
    "        self.w = self.w - self.learning_rate * dw\n",
    "        self.b = self.b - self.learning_rate * db\n",
    "        \n",
    "    def predict(self, X):\n",
    "        return X.dot(self.w) + self.b"
   ]
  },
  {
   "cell_type": "code",
   "execution_count": 3,
   "id": "cf66ca92-2b17-413f-96d7-b1eea1b021dd",
   "metadata": {},
   "outputs": [],
   "source": [
    "data = pd.read_csv(\"salary_data.csv\")"
   ]
  },
  {
   "cell_type": "code",
   "execution_count": 4,
   "id": "948f6944-e00b-4d5b-a4ee-c4ca5815d9df",
   "metadata": {},
   "outputs": [
    {
     "data": {
      "text/html": [
       "<div>\n",
       "<style scoped>\n",
       "    .dataframe tbody tr th:only-of-type {\n",
       "        vertical-align: middle;\n",
       "    }\n",
       "\n",
       "    .dataframe tbody tr th {\n",
       "        vertical-align: top;\n",
       "    }\n",
       "\n",
       "    .dataframe thead th {\n",
       "        text-align: right;\n",
       "    }\n",
       "</style>\n",
       "<table border=\"1\" class=\"dataframe\">\n",
       "  <thead>\n",
       "    <tr style=\"text-align: right;\">\n",
       "      <th></th>\n",
       "      <th>YearsExperience</th>\n",
       "      <th>Salary</th>\n",
       "    </tr>\n",
       "  </thead>\n",
       "  <tbody>\n",
       "    <tr>\n",
       "      <th>0</th>\n",
       "      <td>1.1</td>\n",
       "      <td>39343.0</td>\n",
       "    </tr>\n",
       "    <tr>\n",
       "      <th>1</th>\n",
       "      <td>1.3</td>\n",
       "      <td>46205.0</td>\n",
       "    </tr>\n",
       "    <tr>\n",
       "      <th>2</th>\n",
       "      <td>1.5</td>\n",
       "      <td>37731.0</td>\n",
       "    </tr>\n",
       "    <tr>\n",
       "      <th>3</th>\n",
       "      <td>2.0</td>\n",
       "      <td>43525.0</td>\n",
       "    </tr>\n",
       "    <tr>\n",
       "      <th>4</th>\n",
       "      <td>2.2</td>\n",
       "      <td>39891.0</td>\n",
       "    </tr>\n",
       "  </tbody>\n",
       "</table>\n",
       "</div>"
      ],
      "text/plain": [
       "   YearsExperience   Salary\n",
       "0              1.1  39343.0\n",
       "1              1.3  46205.0\n",
       "2              1.5  37731.0\n",
       "3              2.0  43525.0\n",
       "4              2.2  39891.0"
      ]
     },
     "execution_count": 4,
     "metadata": {},
     "output_type": "execute_result"
    }
   ],
   "source": [
    "data.head()"
   ]
  },
  {
   "cell_type": "code",
   "execution_count": 5,
   "id": "d28656e5-f5df-42ec-b663-59c52204192f",
   "metadata": {},
   "outputs": [
    {
     "data": {
      "text/plain": [
       "(30, 2)"
      ]
     },
     "execution_count": 5,
     "metadata": {},
     "output_type": "execute_result"
    }
   ],
   "source": [
    "data.shape"
   ]
  },
  {
   "cell_type": "code",
   "execution_count": 6,
   "id": "1379583a-b8e3-4cdf-b598-d26a9eca2f9d",
   "metadata": {},
   "outputs": [
    {
     "data": {
      "text/plain": [
       "YearsExperience    0\n",
       "Salary             0\n",
       "dtype: int64"
      ]
     },
     "execution_count": 6,
     "metadata": {},
     "output_type": "execute_result"
    }
   ],
   "source": [
    "data.isnull().sum()"
   ]
  },
  {
   "cell_type": "code",
   "execution_count": 7,
   "id": "32c7f7ee-2ed9-41a8-8de0-9c319fab4e29",
   "metadata": {},
   "outputs": [],
   "source": [
    "df = data.sample(frac=1, random_state=42).reset_index(drop=True) # Shuffle to ensure randomness\n",
    "df_test = df.sample(frac=0.2, random_state=42)\n",
    "df_train = df.drop(df_test.index)"
   ]
  },
  {
   "cell_type": "code",
   "execution_count": 8,
   "id": "fd32ca48-a3dd-46c3-89e4-27f51b5f0434",
   "metadata": {},
   "outputs": [],
   "source": [
    "X_train, Y_train = df_train.drop(columns=[\"Salary\"]).values, df_train[\"Salary\"].values\n",
    "X_test, Y_test = df_test.drop(columns=[\"Salary\"]).values, df_test[\"Salary\"].values"
   ]
  },
  {
   "cell_type": "code",
   "execution_count": 9,
   "id": "933809d7-4150-4d17-a89c-7e1f44e37a89",
   "metadata": {},
   "outputs": [],
   "source": [
    "# training the linear regression model\n",
    "model = Linear_Regression(learning_rate = 0.001, no_of_iterations = 10000)"
   ]
  },
  {
   "cell_type": "code",
   "execution_count": 10,
   "id": "291f620a-fb83-455a-9f78-5437a6dcd55c",
   "metadata": {},
   "outputs": [],
   "source": [
    "model.fit(X_train, Y_train)"
   ]
  },
  {
   "cell_type": "code",
   "execution_count": 11,
   "id": "de7bdd81-8d80-4423-8024-3762820045a5",
   "metadata": {},
   "outputs": [
    {
     "name": "stdout",
     "output_type": "stream",
     "text": [
      "weight =  9555.685676640867\n",
      "bias =  25743.93352762079\n"
     ]
    }
   ],
   "source": [
    "# printing the parameters\n",
    "print(\"weight = \", model.w[0]) \n",
    "print(\"bias = \", model.b)"
   ]
  },
  {
   "cell_type": "code",
   "execution_count": 12,
   "id": "3edb1770-9468-46c6-9cf8-a77fed20c01b",
   "metadata": {},
   "outputs": [
    {
     "name": "stdout",
     "output_type": "stream",
     "text": [
      "[ 68744.5190725  101233.85037308 126078.63313235  40077.46204258\n",
      "  63966.67623418  36255.18777193]\n"
     ]
    }
   ],
   "source": [
    "print(model.predict(X_test))"
   ]
  },
  {
   "cell_type": "code",
   "execution_count": 13,
   "id": "0a027313-905a-410b-9fc4-bf1e9c288701",
   "metadata": {},
   "outputs": [
    {
     "data": {
      "image/png": "[encoded data removed]",
      "text/plain": [
       "<Figure size 640x480 with 1 Axes>"
      ]
     },
     "metadata": {},
     "output_type": "display_data"
    }
   ],
   "source": [
    "# Visualization\n",
    "plt.scatter(X_test, Y_test, color = 'red');\n",
    "plt.plot(X_test, model.predict(X_test), color = 'blue');\n",
    "plt.xlabel(\"work exp\")\n",
    "plt.ylabel(\"salary\")\n",
    "plt.title(\"scatterplot\")\n",
    "plt.show()"
   ]
  }
 ],
 "metadata": {
  "kernelspec": {
   "display_name": "Python 3 (ipykernel)",
   "language": "python",
   "name": "python3"
  },
  "language_info": {
   "codemirror_mode": {
    "name": "ipython",
    "version": 3
   },
   "file_extension": ".py",
   "mimetype": "text/x-python",
   "name": "python",
   "nbconvert_exporter": "python",
   "pygments_lexer": "ipython3",
   "version": "3.13.0"
  }
 },
 "nbformat": 4,
 "nbformat_minor": 5
}
